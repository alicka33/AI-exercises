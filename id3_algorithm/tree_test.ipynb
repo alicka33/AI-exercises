{
 "cells": [
  {
   "cell_type": "markdown",
   "metadata": {},
   "source": [
    "Zadanie 4 (7 pkt)\n",
    "\n",
    "Celem zadania jest zaimplementowanie algorytmu drzewa decyzyjnego ID3 dla zadania klasyfikacji. Trening i test należy przeprowadzić dla zbioru Iris. Proszę przeprowadzić eksperymenty najpierw dla DOKŁADNIE takiego podziału zbioru testowego i treningowego jak umieszczony poniżej. W dalszej części należy przeprowadzić analizę działania drzewa dla różnych wartości parametrów. Proszę korzystać z przygotowanego szkieletu programu, oczywiście można go modyfikować według potrzeb. Wszelkie elementy szkieletu zostaną wyjaśnione na zajęciach.\n",
    "\n",
    "Implementacja funkcji entropii - 0.5 pkt\n",
    "Implementacja funkcji entropii zbioru - 0.5 pkt\n",
    "Implementacja funkcji information gain - 0.5 pkt\n",
    "Zbudowanie poprawnie działającego drzewa klasyfikacyjnego i przetestowanie go na wspomnianym wcześniej zbiorze testowym. Jeśli w liściu występuje kilka różnych klas, decyzją jest klasa większościowa. Policzenie accuracy i wypisanie parami klasy rzeczywistej i predykcji. - 4 pkt\n",
    "Przeprowadzenie eksperymentów dla różnych głębokości drzew i podziałów zbioru treningowego i testowego (zmiana wartości argumentu test_size oraz usunięcie random_state). W tym przypadku dla każdego eksperymentu należy wykonać kilka uruchomień programu i wypisać dla każdego uruchomienia accuracy. - 1.5 pkt"
   ]
  },
  {
   "cell_type": "code",
   "execution_count": 389,
   "metadata": {},
   "outputs": [],
   "source": [
    "from sklearn.datasets import load_iris\n",
    "from sklearn.model_selection import train_test_split\n",
    "import math\n",
    "from collections import Counter\n",
    "import matplotlib.pyplot as plt\n",
    "import numpy as np\n",
    "\n",
    "iris = load_iris()\n",
    "\n",
    "x = iris.data\n",
    "y = iris.target"
   ]
  },
  {
   "cell_type": "code",
   "execution_count": 390,
   "metadata": {},
   "outputs": [],
   "source": [
    "def entropy_func(class_count, num_samples):\n",
    "    probability = class_count/num_samples\n",
    "    return -probability * math.log2(probability) if probability > 0 else 0\n",
    "\n",
    "\n",
    "class Group:\n",
    "    def __init__(self, group_classes):\n",
    "        self.group_classes = group_classes\n",
    "        self.entropy = self.group_entropy()\n",
    "\n",
    "    def __len__(self):\n",
    "        return len(self.group_classes)\n",
    "\n",
    "    def group_entropy(self):\n",
    "        counter = Counter(self.group_classes)\n",
    "        return sum(entropy_func(class_count, len(self)) for class_count in counter.values())\n",
    "\n",
    "\n",
    "class Node:\n",
    "    def __init__(self, split_feature=None, split_val=None, depth=None, child_node_a=None, child_node_b=None, val=None):\n",
    "        self.split_feature = split_feature\n",
    "        self.split_val = split_val\n",
    "        self.depth = depth\n",
    "        self.child_node_a = child_node_a\n",
    "        self.child_node_b = child_node_b\n",
    "        self.val = val\n",
    "\n",
    "    def predict(self, data):\n",
    "        if self.child_node_a is None and self.child_node_b is None:\n",
    "            return self.val\n",
    "        elif data[self.split_feature] <= [self.split_val]:\n",
    "            return self.child_node_a.predict(data)\n",
    "        else:\n",
    "            return self.child_node_b.predict(data)\n",
    "\n",
    "class DecisionTreeClassifier(object):\n",
    "    def __init__(self, max_depth):\n",
    "        self.depth = 0\n",
    "        self.max_depth = max_depth\n",
    "        self.tree = None\n",
    "    \n",
    "    @staticmethod\n",
    "    def get_split_entropy(group_a, group_b):\n",
    "        total = len(group_a) + len(group_b)\n",
    "        child_a_parameter = len(group_a) / total\n",
    "        child_b_parameter = len(group_b) / total\n",
    "        return child_a_parameter * group_a.group_entropy() + child_b_parameter * group_b.group_entropy()\n",
    "\n",
    "    def get_information_gain(self, parent_group, child_group_a, child_group_b):\n",
    "        parent_entropy = parent_group.group_entropy()\n",
    "        return parent_entropy - self.get_split_entropy(child_group_a, child_group_b)\n",
    "\n",
    "    def get_best_feature_split(self, feature_values, classes):\n",
    "        best_information_gain = float('-inf')\n",
    "        best_split_value = None\n",
    "\n",
    "        for value in set(feature_values):\n",
    "            group_a = Group([c for v, c in zip(feature_values, classes) if v <= value])\n",
    "            group_b = Group([c for v, c in zip(feature_values, classes) if v > value])\n",
    "\n",
    "            information_gain = self.get_information_gain(Group(classes), group_a, group_b)\n",
    "\n",
    "            if information_gain > best_information_gain:\n",
    "                best_information_gain = information_gain\n",
    "                best_split_value = value\n",
    "\n",
    "        return best_split_value, best_information_gain\n",
    "\n",
    "    def get_best_split(self, data, classes):\n",
    "        best_feature = None\n",
    "        best_split_value = None\n",
    "        best_information_gain = float('-inf')\n",
    "\n",
    "        for feature_index in range(len(data[0])):\n",
    "            feature_values = [row[feature_index] for row in data]\n",
    "            split_value, information_gain = self.get_best_feature_split(feature_values, classes)\n",
    "\n",
    "            if information_gain > best_information_gain:\n",
    "                best_information_gain = information_gain\n",
    "                best_feature = feature_index\n",
    "                best_split_value = split_value\n",
    "\n",
    "        return best_feature, best_split_value\n",
    "\n",
    "    def build_tree(self, data, classes, depth=0):\n",
    "        if depth >= self.max_depth or len(set(classes)) == 1:\n",
    "            return Node(val=Counter(classes).most_common(1)[0][0])\n",
    "\n",
    "        best_feature, best_split_value = self.get_best_split(data, classes)\n",
    "\n",
    "        group_a_indices = [i for i, val in enumerate(data[:, best_feature]) if val <= best_split_value]\n",
    "        group_b_indices = [i for i in range(len(data)) if i not in group_a_indices]\n",
    "\n",
    "        node = Node(split_feature=best_feature, split_val=best_split_value, depth=depth)\n",
    "\n",
    "        node.child_node_a = self.build_tree(data[group_a_indices], classes[group_a_indices], depth + 1)\n",
    "        node.child_node_b = self.build_tree(data[group_b_indices], classes[group_b_indices], depth + 1)\n",
    "\n",
    "        return node\n",
    "\n",
    "    def start_building_tree(self, data, classes):\n",
    "        self.tree = self.build_tree(data, classes)\n",
    "\n",
    "    def predict(self, data):\n",
    "        return self.tree.predict(data)\n",
    "    \n",
    "    def print_tree(self):\n",
    "        def print_node(node: Node, indent=\"\"):\n",
    "            if node.child_node_a is None and node.child_node_b is None:\n",
    "                print(indent + f\"Answer is {node.val}\")\n",
    "            else:\n",
    "                print(indent + f\"Split, feature {node.split_feature}, value -> {node.split_val}\")\n",
    "\n",
    "                print(indent + \" -> \" + f\"(A)\")\n",
    "                print_node(node.child_node_a, indent + \"      \")\n",
    "                \n",
    "                print(indent + \" -> \" + f\"(B)\")\n",
    "                print_node(node.child_node_b, indent + \"      \")\n",
    "        \n",
    "        print_node(self.tree)\n"
   ]
  },
  {
   "cell_type": "code",
   "execution_count": 391,
   "metadata": {},
   "outputs": [],
   "source": [
    "def evaluate_accuracy(dc, test_data, test_classes):\n",
    "        correct_predictions = 0\n",
    "        total_samples = len(test_data)\n",
    "\n",
    "        for data_point, true_class in zip(test_data, test_classes):\n",
    "            predicted_class = dc.predict(data_point)\n",
    "\n",
    "            if true_class == predicted_class:\n",
    "                correct_predictions += 1\n",
    "\n",
    "            print(f\"True Class: {true_class}, Predicted Class: {predicted_class}\")\n",
    "\n",
    "        accuracy = correct_predictions / total_samples\n",
    "        print(f\"Accuracy: {accuracy * 100:.2f}%\")"
   ]
  },
  {
   "cell_type": "markdown",
   "metadata": {},
   "source": [
    "Eksperytment dla zadanych danych testowych."
   ]
  },
  {
   "cell_type": "code",
   "execution_count": 392,
   "metadata": {},
   "outputs": [
    {
     "name": "stdout",
     "output_type": "stream",
     "text": [
      "True Class: 1, Predicted Class: 2\n",
      "True Class: 2, Predicted Class: 2\n",
      "True Class: 2, Predicted Class: 2\n",
      "True Class: 1, Predicted Class: 1\n",
      "True Class: 0, Predicted Class: 0\n",
      "True Class: 2, Predicted Class: 2\n",
      "True Class: 1, Predicted Class: 1\n",
      "True Class: 0, Predicted Class: 0\n",
      "True Class: 0, Predicted Class: 0\n",
      "True Class: 1, Predicted Class: 1\n",
      "True Class: 2, Predicted Class: 2\n",
      "True Class: 0, Predicted Class: 0\n",
      "True Class: 1, Predicted Class: 1\n",
      "True Class: 2, Predicted Class: 2\n",
      "True Class: 2, Predicted Class: 2\n",
      "Accuracy: 93.33%\n"
     ]
    }
   ],
   "source": [
    "x_train, x_test, y_train, y_test = train_test_split(x, y, test_size=0.1, random_state=123)\n",
    "tree = DecisionTreeClassifier(3)\n",
    "tree.start_building_tree(x_train, y_train)\n",
    "# tree.print_tree()\n",
    "evaluate_accuracy(tree, x_test, y_test)\n"
   ]
  },
  {
   "cell_type": "markdown",
   "metadata": {},
   "source": [
    "Wynik ewaluacji przeprowadzano dla zwiększonego parametru test_size. Test size określa jaka cześć danych zostań przeznaczona do utworzenia danych testowych. Pozostałe dane są wykorzystywane do uczenia algorytmu. Zmienna random_state natomiast określa losować w wyborze danych testowych."
   ]
  },
  {
   "cell_type": "markdown",
   "metadata": {},
   "source": [
    "Wyniki dla różnych wartości test_size"
   ]
  },
  {
   "cell_type": "code",
   "execution_count": 393,
   "metadata": {},
   "outputs": [
    {
     "name": "stdout",
     "output_type": "stream",
     "text": [
      "True Class: 1, Predicted Class: 1\n",
      "True Class: 2, Predicted Class: 2\n",
      "True Class: 2, Predicted Class: 2\n",
      "True Class: 1, Predicted Class: 1\n",
      "True Class: 0, Predicted Class: 0\n",
      "True Class: 2, Predicted Class: 2\n",
      "True Class: 1, Predicted Class: 1\n",
      "True Class: 0, Predicted Class: 0\n",
      "True Class: 0, Predicted Class: 0\n",
      "True Class: 1, Predicted Class: 1\n",
      "True Class: 2, Predicted Class: 2\n",
      "True Class: 0, Predicted Class: 0\n",
      "True Class: 1, Predicted Class: 1\n",
      "True Class: 2, Predicted Class: 2\n",
      "True Class: 2, Predicted Class: 2\n",
      "True Class: 2, Predicted Class: 2\n",
      "True Class: 0, Predicted Class: 0\n",
      "True Class: 0, Predicted Class: 0\n",
      "True Class: 1, Predicted Class: 1\n",
      "True Class: 0, Predicted Class: 0\n",
      "True Class: 0, Predicted Class: 0\n",
      "True Class: 2, Predicted Class: 1\n",
      "True Class: 0, Predicted Class: 1\n",
      "True Class: 2, Predicted Class: 2\n",
      "True Class: 0, Predicted Class: 0\n",
      "True Class: 0, Predicted Class: 0\n",
      "True Class: 0, Predicted Class: 0\n",
      "True Class: 2, Predicted Class: 2\n",
      "True Class: 2, Predicted Class: 2\n",
      "True Class: 0, Predicted Class: 0\n",
      "True Class: 2, Predicted Class: 2\n",
      "True Class: 2, Predicted Class: 1\n",
      "True Class: 0, Predicted Class: 0\n",
      "True Class: 0, Predicted Class: 0\n",
      "True Class: 1, Predicted Class: 1\n",
      "True Class: 1, Predicted Class: 1\n",
      "True Class: 2, Predicted Class: 2\n",
      "True Class: 0, Predicted Class: 0\n",
      "True Class: 0, Predicted Class: 0\n",
      "True Class: 1, Predicted Class: 1\n",
      "True Class: 1, Predicted Class: 1\n",
      "True Class: 0, Predicted Class: 0\n",
      "True Class: 2, Predicted Class: 2\n",
      "True Class: 2, Predicted Class: 2\n",
      "True Class: 2, Predicted Class: 2\n",
      "True Class: 2, Predicted Class: 2\n",
      "True Class: 2, Predicted Class: 2\n",
      "True Class: 1, Predicted Class: 1\n",
      "True Class: 0, Predicted Class: 0\n",
      "True Class: 0, Predicted Class: 0\n",
      "True Class: 2, Predicted Class: 2\n",
      "True Class: 0, Predicted Class: 0\n",
      "True Class: 0, Predicted Class: 0\n",
      "True Class: 1, Predicted Class: 1\n",
      "True Class: 1, Predicted Class: 1\n",
      "True Class: 1, Predicted Class: 1\n",
      "True Class: 1, Predicted Class: 1\n",
      "True Class: 2, Predicted Class: 2\n",
      "True Class: 1, Predicted Class: 1\n",
      "True Class: 2, Predicted Class: 2\n",
      "True Class: 0, Predicted Class: 0\n",
      "True Class: 2, Predicted Class: 2\n",
      "True Class: 1, Predicted Class: 1\n",
      "True Class: 0, Predicted Class: 0\n",
      "True Class: 0, Predicted Class: 0\n",
      "True Class: 2, Predicted Class: 2\n",
      "True Class: 1, Predicted Class: 1\n",
      "True Class: 2, Predicted Class: 2\n",
      "True Class: 2, Predicted Class: 2\n",
      "True Class: 0, Predicted Class: 1\n",
      "True Class: 1, Predicted Class: 1\n",
      "True Class: 1, Predicted Class: 1\n",
      "True Class: 2, Predicted Class: 2\n",
      "True Class: 0, Predicted Class: 0\n",
      "True Class: 2, Predicted Class: 2\n",
      "Accuracy: 94.67%\n"
     ]
    }
   ],
   "source": [
    "x_train, x_test, y_train, y_test = train_test_split(x, y, test_size=0.5, random_state=123)\n",
    "tree = DecisionTreeClassifier(max_depth=3)\n",
    "tree.start_building_tree(x_train, y_train)\n",
    "evaluate_accuracy(tree, x_test, y_test)"
   ]
  },
  {
   "cell_type": "code",
   "execution_count": 394,
   "metadata": {},
   "outputs": [
    {
     "name": "stdout",
     "output_type": "stream",
     "text": [
      "True Class: 1, Predicted Class: 1\n",
      "True Class: 2, Predicted Class: 2\n",
      "True Class: 2, Predicted Class: 2\n",
      "True Class: 1, Predicted Class: 1\n",
      "True Class: 0, Predicted Class: 0\n",
      "True Class: 2, Predicted Class: 2\n",
      "True Class: 1, Predicted Class: 1\n",
      "True Class: 0, Predicted Class: 0\n",
      "True Class: 0, Predicted Class: 1\n",
      "True Class: 1, Predicted Class: 1\n",
      "True Class: 2, Predicted Class: 2\n",
      "True Class: 0, Predicted Class: 0\n",
      "True Class: 1, Predicted Class: 1\n",
      "True Class: 2, Predicted Class: 2\n",
      "True Class: 2, Predicted Class: 2\n",
      "True Class: 2, Predicted Class: 2\n",
      "True Class: 0, Predicted Class: 0\n",
      "True Class: 0, Predicted Class: 1\n",
      "True Class: 1, Predicted Class: 1\n",
      "True Class: 0, Predicted Class: 1\n",
      "True Class: 0, Predicted Class: 0\n",
      "True Class: 2, Predicted Class: 1\n",
      "True Class: 0, Predicted Class: 0\n",
      "True Class: 2, Predicted Class: 2\n",
      "True Class: 0, Predicted Class: 0\n",
      "True Class: 0, Predicted Class: 0\n",
      "True Class: 0, Predicted Class: 0\n",
      "True Class: 2, Predicted Class: 2\n",
      "True Class: 2, Predicted Class: 2\n",
      "True Class: 0, Predicted Class: 0\n",
      "True Class: 2, Predicted Class: 2\n",
      "True Class: 2, Predicted Class: 1\n",
      "True Class: 0, Predicted Class: 0\n",
      "True Class: 0, Predicted Class: 0\n",
      "True Class: 1, Predicted Class: 1\n",
      "True Class: 1, Predicted Class: 1\n",
      "True Class: 2, Predicted Class: 2\n",
      "True Class: 0, Predicted Class: 0\n",
      "True Class: 0, Predicted Class: 0\n",
      "True Class: 1, Predicted Class: 1\n",
      "True Class: 1, Predicted Class: 1\n",
      "True Class: 0, Predicted Class: 0\n",
      "True Class: 2, Predicted Class: 2\n",
      "True Class: 2, Predicted Class: 2\n",
      "True Class: 2, Predicted Class: 2\n",
      "True Class: 2, Predicted Class: 2\n",
      "True Class: 2, Predicted Class: 2\n",
      "True Class: 1, Predicted Class: 1\n",
      "True Class: 0, Predicted Class: 0\n",
      "True Class: 0, Predicted Class: 1\n",
      "True Class: 2, Predicted Class: 2\n",
      "True Class: 0, Predicted Class: 0\n",
      "True Class: 0, Predicted Class: 0\n",
      "True Class: 1, Predicted Class: 0\n",
      "True Class: 1, Predicted Class: 1\n",
      "True Class: 1, Predicted Class: 1\n",
      "True Class: 1, Predicted Class: 1\n",
      "True Class: 2, Predicted Class: 2\n",
      "True Class: 1, Predicted Class: 0\n",
      "True Class: 2, Predicted Class: 2\n",
      "True Class: 0, Predicted Class: 1\n",
      "True Class: 2, Predicted Class: 2\n",
      "True Class: 1, Predicted Class: 1\n",
      "True Class: 0, Predicted Class: 0\n",
      "True Class: 0, Predicted Class: 0\n",
      "True Class: 2, Predicted Class: 2\n",
      "True Class: 1, Predicted Class: 1\n",
      "True Class: 2, Predicted Class: 2\n",
      "True Class: 2, Predicted Class: 2\n",
      "True Class: 0, Predicted Class: 0\n",
      "True Class: 1, Predicted Class: 0\n",
      "True Class: 1, Predicted Class: 1\n",
      "True Class: 2, Predicted Class: 2\n",
      "True Class: 0, Predicted Class: 1\n",
      "True Class: 2, Predicted Class: 1\n",
      "True Class: 1, Predicted Class: 0\n",
      "True Class: 1, Predicted Class: 0\n",
      "True Class: 0, Predicted Class: 1\n",
      "True Class: 2, Predicted Class: 2\n",
      "True Class: 2, Predicted Class: 2\n",
      "True Class: 0, Predicted Class: 0\n",
      "True Class: 0, Predicted Class: 1\n",
      "True Class: 1, Predicted Class: 1\n",
      "True Class: 1, Predicted Class: 1\n",
      "True Class: 2, Predicted Class: 2\n",
      "True Class: 0, Predicted Class: 0\n",
      "True Class: 0, Predicted Class: 0\n",
      "True Class: 1, Predicted Class: 1\n",
      "True Class: 0, Predicted Class: 0\n",
      "True Class: 1, Predicted Class: 2\n",
      "True Class: 2, Predicted Class: 2\n",
      "True Class: 0, Predicted Class: 0\n",
      "True Class: 2, Predicted Class: 2\n",
      "True Class: 0, Predicted Class: 0\n",
      "True Class: 0, Predicted Class: 0\n",
      "True Class: 1, Predicted Class: 2\n",
      "True Class: 0, Predicted Class: 0\n",
      "True Class: 0, Predicted Class: 0\n",
      "True Class: 1, Predicted Class: 1\n",
      "True Class: 2, Predicted Class: 2\n",
      "True Class: 1, Predicted Class: 1\n",
      "True Class: 1, Predicted Class: 1\n",
      "True Class: 1, Predicted Class: 1\n",
      "True Class: 0, Predicted Class: 0\n",
      "True Class: 0, Predicted Class: 0\n",
      "True Class: 1, Predicted Class: 1\n",
      "True Class: 2, Predicted Class: 1\n",
      "True Class: 0, Predicted Class: 0\n",
      "True Class: 0, Predicted Class: 0\n",
      "True Class: 1, Predicted Class: 1\n",
      "True Class: 1, Predicted Class: 0\n",
      "True Class: 1, Predicted Class: 1\n",
      "True Class: 2, Predicted Class: 2\n",
      "True Class: 1, Predicted Class: 0\n",
      "True Class: 1, Predicted Class: 1\n",
      "True Class: 1, Predicted Class: 1\n",
      "True Class: 2, Predicted Class: 2\n",
      "True Class: 0, Predicted Class: 0\n",
      "True Class: 0, Predicted Class: 0\n",
      "True Class: 1, Predicted Class: 1\n",
      "True Class: 2, Predicted Class: 2\n",
      "True Class: 2, Predicted Class: 2\n",
      "True Class: 2, Predicted Class: 2\n",
      "True Class: 2, Predicted Class: 2\n",
      "True Class: 0, Predicted Class: 0\n",
      "True Class: 1, Predicted Class: 1\n",
      "True Class: 0, Predicted Class: 0\n",
      "True Class: 1, Predicted Class: 1\n",
      "True Class: 1, Predicted Class: 1\n",
      "True Class: 0, Predicted Class: 0\n",
      "True Class: 1, Predicted Class: 1\n",
      "True Class: 2, Predicted Class: 2\n",
      "True Class: 1, Predicted Class: 1\n",
      "True Class: 2, Predicted Class: 2\n",
      "True Class: 2, Predicted Class: 2\n",
      "Accuracy: 84.44%\n"
     ]
    }
   ],
   "source": [
    "x_train, x_test, y_train, y_test = train_test_split(x, y, test_size=0.9, random_state=123)\n",
    "tree = DecisionTreeClassifier(max_depth=3)\n",
    "tree.start_building_tree(x_train, y_train)\n",
    "evaluate_accuracy(tree, x_test, y_test)"
   ]
  },
  {
   "cell_type": "code",
   "execution_count": 395,
   "metadata": {},
   "outputs": [
    {
     "name": "stdout",
     "output_type": "stream",
     "text": [
      "True Class: 1, Predicted Class: 2\n",
      "True Class: 2, Predicted Class: 2\n",
      "True Class: 2, Predicted Class: 2\n",
      "True Class: 1, Predicted Class: 1\n",
      "True Class: 0, Predicted Class: 0\n",
      "True Class: 2, Predicted Class: 2\n",
      "True Class: 1, Predicted Class: 1\n",
      "True Class: 0, Predicted Class: 0\n",
      "Accuracy: 87.50%\n"
     ]
    }
   ],
   "source": [
    "x_train, x_test, y_train, y_test = train_test_split(x, y, test_size=0.05, random_state=123)\n",
    "tree = DecisionTreeClassifier(max_depth=3)\n",
    "tree.start_building_tree(x_train, y_train)\n",
    "evaluate_accuracy(tree, x_test, y_test)"
   ]
  },
  {
   "cell_type": "code",
   "execution_count": 396,
   "metadata": {},
   "outputs": [
    {
     "name": "stdout",
     "output_type": "stream",
     "text": [
      "True Class: 1, Predicted Class: 2\n",
      "True Class: 2, Predicted Class: 2\n",
      "Accuracy: 50.00%\n"
     ]
    }
   ],
   "source": [
    "x_train, x_test, y_train, y_test = train_test_split(x, y, test_size=0.01, random_state=123)\n",
    "tree = DecisionTreeClassifier(max_depth=3)\n",
    "tree.start_building_tree(x_train, y_train)\n",
    "evaluate_accuracy(tree, x_test, y_test)"
   ]
  },
  {
   "cell_type": "markdown",
   "metadata": {},
   "source": [
    "Obserwacja: Przy zwiększeniu wielkości danych testujących (i tym samym zmniejszeniu danych trenujących) otrzymujemy mniejszą dokładność w prognozie wyników dla danych testowych. Mniejsza ilość danych testowych będzie negatywnie wpływała na przewidywanie algorytmu. "
   ]
  },
  {
   "cell_type": "markdown",
   "metadata": {},
   "source": [
    "Wyniki dla różnych wartości random_state"
   ]
  },
  {
   "cell_type": "code",
   "execution_count": 397,
   "metadata": {},
   "outputs": [
    {
     "name": "stdout",
     "output_type": "stream",
     "text": [
      "True Class: 1, Predicted Class: 2\n",
      "True Class: 2, Predicted Class: 2\n",
      "True Class: 2, Predicted Class: 2\n",
      "True Class: 1, Predicted Class: 1\n",
      "True Class: 0, Predicted Class: 0\n",
      "True Class: 2, Predicted Class: 2\n",
      "True Class: 1, Predicted Class: 1\n",
      "True Class: 0, Predicted Class: 0\n",
      "True Class: 0, Predicted Class: 0\n",
      "True Class: 1, Predicted Class: 1\n",
      "True Class: 2, Predicted Class: 2\n",
      "True Class: 0, Predicted Class: 0\n",
      "True Class: 1, Predicted Class: 1\n",
      "True Class: 2, Predicted Class: 2\n",
      "True Class: 2, Predicted Class: 2\n",
      "Accuracy: 93.33%\n"
     ]
    }
   ],
   "source": [
    "x_train, x_test, y_train, y_test = train_test_split(x, y, test_size=0.1, random_state=123)\n",
    "tree = DecisionTreeClassifier(max_depth=3)\n",
    "tree.start_building_tree(x_train, y_train)\n",
    "evaluate_accuracy(tree, x_test, y_test)"
   ]
  },
  {
   "cell_type": "code",
   "execution_count": 398,
   "metadata": {},
   "outputs": [
    {
     "name": "stdout",
     "output_type": "stream",
     "text": [
      "True Class: 0, Predicted Class: 0\n",
      "True Class: 0, Predicted Class: 0\n",
      "True Class: 0, Predicted Class: 0\n",
      "True Class: 0, Predicted Class: 0\n",
      "True Class: 0, Predicted Class: 0\n",
      "True Class: 2, Predicted Class: 2\n",
      "True Class: 1, Predicted Class: 1\n",
      "True Class: 0, Predicted Class: 0\n",
      "True Class: 2, Predicted Class: 2\n",
      "True Class: 1, Predicted Class: 1\n",
      "True Class: 1, Predicted Class: 1\n",
      "True Class: 0, Predicted Class: 0\n",
      "True Class: 1, Predicted Class: 1\n",
      "True Class: 1, Predicted Class: 1\n",
      "True Class: 2, Predicted Class: 2\n",
      "Accuracy: 100.00%\n"
     ]
    }
   ],
   "source": [
    "x_train, x_test, y_train, y_test = train_test_split(x, y, test_size=0.1, random_state=3)\n",
    "tree = DecisionTreeClassifier(max_depth=3)\n",
    "tree.start_building_tree(x_train, y_train)\n",
    "evaluate_accuracy(tree, x_test, y_test)"
   ]
  },
  {
   "cell_type": "code",
   "execution_count": 399,
   "metadata": {},
   "outputs": [
    {
     "name": "stdout",
     "output_type": "stream",
     "text": [
      "True Class: 1, Predicted Class: 1\n",
      "True Class: 0, Predicted Class: 0\n",
      "True Class: 2, Predicted Class: 2\n",
      "True Class: 2, Predicted Class: 2\n",
      "True Class: 0, Predicted Class: 1\n",
      "True Class: 0, Predicted Class: 0\n",
      "True Class: 1, Predicted Class: 1\n",
      "True Class: 1, Predicted Class: 1\n",
      "True Class: 0, Predicted Class: 0\n",
      "True Class: 2, Predicted Class: 2\n",
      "True Class: 2, Predicted Class: 2\n",
      "True Class: 1, Predicted Class: 1\n",
      "True Class: 0, Predicted Class: 1\n",
      "True Class: 0, Predicted Class: 0\n",
      "True Class: 2, Predicted Class: 2\n",
      "Accuracy: 86.67%\n"
     ]
    }
   ],
   "source": [
    "x_train, x_test, y_train, y_test = train_test_split(x, y, test_size=0.1, random_state=1000)\n",
    "tree = DecisionTreeClassifier(max_depth=3)\n",
    "tree.start_building_tree(x_train, y_train)\n",
    "evaluate_accuracy(tree, x_test, y_test)"
   ]
  },
  {
   "cell_type": "code",
   "execution_count": 400,
   "metadata": {},
   "outputs": [
    {
     "name": "stdout",
     "output_type": "stream",
     "text": [
      "True Class: 2, Predicted Class: 2\n",
      "True Class: 2, Predicted Class: 2\n",
      "True Class: 0, Predicted Class: 0\n",
      "True Class: 2, Predicted Class: 2\n",
      "True Class: 0, Predicted Class: 0\n",
      "True Class: 2, Predicted Class: 2\n",
      "True Class: 0, Predicted Class: 0\n",
      "True Class: 2, Predicted Class: 2\n",
      "True Class: 1, Predicted Class: 1\n",
      "True Class: 2, Predicted Class: 2\n",
      "True Class: 2, Predicted Class: 2\n",
      "True Class: 1, Predicted Class: 1\n",
      "True Class: 1, Predicted Class: 1\n",
      "True Class: 2, Predicted Class: 2\n",
      "True Class: 0, Predicted Class: 0\n",
      "Accuracy: 100.00%\n"
     ]
    }
   ],
   "source": [
    "x_train, x_test, y_train, y_test = train_test_split(x, y, test_size=0.1, random_state=None)\n",
    "tree = DecisionTreeClassifier(max_depth=3)\n",
    "tree.start_building_tree(x_train, y_train)\n",
    "evaluate_accuracy(tree, x_test, y_test)"
   ]
  },
  {
   "cell_type": "markdown",
   "metadata": {},
   "source": [
    "Wyniki dla różnych głębokości"
   ]
  },
  {
   "cell_type": "code",
   "execution_count": 401,
   "metadata": {},
   "outputs": [
    {
     "name": "stdout",
     "output_type": "stream",
     "text": [
      "True Class: 1, Predicted Class: 1\n",
      "True Class: 2, Predicted Class: 1\n",
      "True Class: 2, Predicted Class: 1\n",
      "True Class: 1, Predicted Class: 1\n",
      "True Class: 0, Predicted Class: 0\n",
      "True Class: 2, Predicted Class: 1\n",
      "True Class: 1, Predicted Class: 1\n",
      "True Class: 0, Predicted Class: 0\n",
      "True Class: 0, Predicted Class: 0\n",
      "True Class: 1, Predicted Class: 1\n",
      "True Class: 2, Predicted Class: 1\n",
      "True Class: 0, Predicted Class: 0\n",
      "True Class: 1, Predicted Class: 1\n",
      "True Class: 2, Predicted Class: 1\n",
      "True Class: 2, Predicted Class: 1\n",
      "Accuracy: 60.00%\n"
     ]
    }
   ],
   "source": [
    "x_train, x_test, y_train, y_test = train_test_split(x, y, test_size=0.1, random_state=123)\n",
    "tree = DecisionTreeClassifier(max_depth=1)\n",
    "tree.start_building_tree(x_train, y_train)\n",
    "evaluate_accuracy(tree, x_test, y_test)"
   ]
  },
  {
   "cell_type": "code",
   "execution_count": 402,
   "metadata": {},
   "outputs": [
    {
     "name": "stdout",
     "output_type": "stream",
     "text": [
      "True Class: 1, Predicted Class: 2\n",
      "True Class: 2, Predicted Class: 2\n",
      "True Class: 2, Predicted Class: 2\n",
      "True Class: 1, Predicted Class: 1\n",
      "True Class: 0, Predicted Class: 0\n",
      "True Class: 2, Predicted Class: 2\n",
      "True Class: 1, Predicted Class: 1\n",
      "True Class: 0, Predicted Class: 0\n",
      "True Class: 0, Predicted Class: 0\n",
      "True Class: 1, Predicted Class: 1\n",
      "True Class: 2, Predicted Class: 2\n",
      "True Class: 0, Predicted Class: 0\n",
      "True Class: 1, Predicted Class: 1\n",
      "True Class: 2, Predicted Class: 2\n",
      "True Class: 2, Predicted Class: 2\n",
      "Accuracy: 93.33%\n"
     ]
    }
   ],
   "source": [
    "x_train, x_test, y_train, y_test = train_test_split(x, y, test_size=0.1, random_state=123)\n",
    "tree = DecisionTreeClassifier(max_depth=3)\n",
    "tree.start_building_tree(x_train, y_train)\n",
    "evaluate_accuracy(tree, x_test, y_test)"
   ]
  },
  {
   "cell_type": "code",
   "execution_count": 403,
   "metadata": {},
   "outputs": [
    {
     "name": "stdout",
     "output_type": "stream",
     "text": [
      "True Class: 1, Predicted Class: 2\n",
      "True Class: 2, Predicted Class: 2\n",
      "True Class: 2, Predicted Class: 2\n",
      "True Class: 1, Predicted Class: 1\n",
      "True Class: 0, Predicted Class: 0\n",
      "True Class: 2, Predicted Class: 1\n",
      "True Class: 1, Predicted Class: 1\n",
      "True Class: 0, Predicted Class: 0\n",
      "True Class: 0, Predicted Class: 0\n",
      "True Class: 1, Predicted Class: 1\n",
      "True Class: 2, Predicted Class: 2\n",
      "True Class: 0, Predicted Class: 0\n",
      "True Class: 1, Predicted Class: 1\n",
      "True Class: 2, Predicted Class: 2\n",
      "True Class: 2, Predicted Class: 2\n",
      "Accuracy: 86.67%\n"
     ]
    }
   ],
   "source": [
    "x_train, x_test, y_train, y_test = train_test_split(x, y, test_size=0.1, random_state=123)\n",
    "tree = DecisionTreeClassifier(max_depth=5)\n",
    "tree.start_building_tree(x_train, y_train)\n",
    "evaluate_accuracy(tree, x_test, y_test)"
   ]
  },
  {
   "cell_type": "markdown",
   "metadata": {},
   "source": [
    "Obeserwacje: Możemy zauważyć wzrost dokładności predykcji dla zwiększającej się głębokości. Większa głębokość dała nam możliwość wytworzenia dokłądniej wytrenowanego modelu, który lepiej jest w stanie przewidzieć wyniki dla danych testowych. Dzieje się tak do momentu natrafienia na głębokość, która przetrenowuje dane. Wtedy dokładność predykcji spada."
   ]
  },
  {
   "cell_type": "code",
   "execution_count": 404,
   "metadata": {},
   "outputs": [],
   "source": [
    "def get_accuracy(y_pred, y_test):\n",
    "    return sum([1 if y_pred[i] == y_test[i] else 0 for i in range(len(y_pred))]) / len(y_pred)"
   ]
  },
  {
   "cell_type": "code",
   "execution_count": 405,
   "metadata": {},
   "outputs": [
    {
     "data": {
      "image/png": "[encoded data removed]",
      "text/plain": [
       "<Figure size 640x480 with 1 Axes>"
      ]
     },
     "metadata": {},
     "output_type": "display_data"
    }
   ],
   "source": [
    "fig, ax = plt.subplots()\n",
    "\n",
    "max_depths = range(8)\n",
    "test_sizes = [0.05, 0.1, 0.2, 0.25, 0.3, 0.4]\n",
    "\n",
    "for test_size in test_sizes:\n",
    "    x_train, x_test, y_train, y_test = train_test_split(x, y, test_size=test_size, random_state=None)\n",
    "    accuracies = []\n",
    "    for depth in max_depths:\n",
    "        tree = DecisionTreeClassifier(depth)\n",
    "        tree.start_building_tree(x_train, y_train)\n",
    "\n",
    "        predictions = [tree.predict(sample) for sample, gt in zip(x_test, y_test)] \n",
    "        accuracy = get_accuracy(predictions, y_test)\n",
    "        accuracies.append(accuracy)\n",
    "\n",
    "    ax.plot(max_depths, accuracies, label=f\"Test set size: {test_size}\")\n",
    "\n",
    "plt.title(\"Accuracy per depth\")\n",
    "\n",
    "ax.set_xlabel(\"Depth\")\n",
    "ax.set_ylabel(\"Accuracy\")\n",
    "\n",
    "plt.legend()\n",
    "plt.show()"
   ]
  },
  {
   "cell_type": "code",
   "execution_count": 406,
   "metadata": {},
   "outputs": [
    {
     "data": {
      "image/png": "[encoded data removed]",
      "text/plain": [
       "<Figure size 640x480 with 1 Axes>"
      ]
     },
     "metadata": {},
     "output_type": "display_data"
    }
   ],
   "source": [
    "probes = 10\n",
    "fig, ax = plt.subplots()\n",
    "max_depths = range(8)\n",
    "test_sizes = [0.05, 0.1, 0.2, 0.25, 0.3, 0.4]\n",
    "\n",
    "for test_size in test_sizes:\n",
    "    accuracies = [0 for _ in range(len(max_depths))]\n",
    "    for probe in range(probes):\n",
    "        x_train, x_test, y_train, y_test = train_test_split(x, y, test_size=test_size, random_state=None)\n",
    "        for depth in max_depths:\n",
    "            tree = DecisionTreeClassifier(depth)\n",
    "            tree.start_building_tree(x_train, y_train)\n",
    "\n",
    "            predictions = [tree.predict(sample) for sample, gt in zip(x_test, y_test)] \n",
    "            accuracy = get_accuracy(predictions, y_test)\n",
    "            accuracies[depth] += accuracy\n",
    "    \n",
    "    accuracies = [accuracy / probes for accuracy in accuracies]\n",
    "    ax.plot(max_depths, accuracies, label=f\"Test set size: {test_size}\")\n",
    "\n",
    "plt.title(\"Accuracy per depth for average results\")\n",
    "\n",
    "ax.set_xlabel(\"Depth\")\n",
    "ax.set_ylabel(\"Accuracy\")\n",
    "\n",
    "plt.legend()\n",
    "plt.show()"
   ]
  }
 ],
 "metadata": {
  "kernelspec": {
   "display_name": "Python 3",
   "language": "python",
   "name": "python3"
  },
  "language_info": {
   "codemirror_mode": {
    "name": "ipython",
    "version": 3
   },
   "file_extension": ".py",
   "mimetype": "text/x-python",
   "name": "python",
   "nbconvert_exporter": "python",
   "pygments_lexer": "ipython3",
   "version": "3.10.6"
  }
 },
 "nbformat": 4,
 "nbformat_minor": 2
}
