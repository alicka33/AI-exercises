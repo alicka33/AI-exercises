{
  "cells": [
    {
      "cell_type": "markdown",
      "metadata": {
        "collapsed": false
      },
      "source": [
        "# Zadanie 5\n",
        "\n",
        "Celem ćwiczenia jest implementacja algorytmu Q-learning.\n",
        "\n",
        "Następnie należy stworzyć agenta rozwiązującego problem [Taxi](https://gymnasium.farama.org/environments/toy_text/taxi/). Problem dostępny jest w pakiecie **gym**.\n",
        "\n",
        "Punktacja (max 7 pkt):\n",
        "- Implementacja algorytmu Q-learning. [3 pkt]\n",
        "- Eksperymenty dla różnych wartości hiperparametrów [2 pkt]\n",
        "- Jakość kodu [1 pkt]\n",
        "- Wnioski [1 pkt]\n"
      ]
    },
    {
      "cell_type": "code",
      "execution_count": 7,
      "metadata": {},
      "outputs": [
        {
          "ename": "IndexError",
          "evalue": "only integers, slices (`:`), ellipsis (`...`), numpy.newaxis (`None`) and integer or boolean arrays are valid indices",
          "output_type": "error",
          "traceback": [
            "\u001b[0;31m---------------------------------------------------------------------------\u001b[0m",
            "\u001b[0;31mIndexError\u001b[0m                                Traceback (most recent call last)",
            "\u001b[1;32m/home/jonczyk/WSI/NEURAL_NETWORKS/zad5 (1).ipynb Cell 2\u001b[0m line \u001b[0;36m6\n\u001b[1;32m     <a href='vscode-notebook-cell://wsl%2Bubuntu/home/jonczyk/WSI/NEURAL_NETWORKS/zad5%20%281%29.ipynb#W6sdnNjb2RlLXJlbW90ZQ%3D%3D?line=61'>62</a>\u001b[0m total_reward \u001b[39m=\u001b[39m \u001b[39m0\u001b[39m\n\u001b[1;32m     <a href='vscode-notebook-cell://wsl%2Bubuntu/home/jonczyk/WSI/NEURAL_NETWORKS/zad5%20%281%29.ipynb#W6sdnNjb2RlLXJlbW90ZQ%3D%3D?line=63'>64</a>\u001b[0m \u001b[39mfor\u001b[39;00m step \u001b[39min\u001b[39;00m \u001b[39mrange\u001b[39m(\u001b[39m200\u001b[39m):  \u001b[39m# Limit the number of steps per episode to avoid infinite loops\u001b[39;00m\n\u001b[0;32m---> <a href='vscode-notebook-cell://wsl%2Bubuntu/home/jonczyk/WSI/NEURAL_NETWORKS/zad5%20%281%29.ipynb#W6sdnNjb2RlLXJlbW90ZQ%3D%3D?line=64'>65</a>\u001b[0m     action \u001b[39m=\u001b[39m q_solver\u001b[39m.\u001b[39;49mget_best_action(state)\n\u001b[1;32m     <a href='vscode-notebook-cell://wsl%2Bubuntu/home/jonczyk/WSI/NEURAL_NETWORKS/zad5%20%281%29.ipynb#W6sdnNjb2RlLXJlbW90ZQ%3D%3D?line=65'>66</a>\u001b[0m     next_state, reward, done, _ \u001b[39m=\u001b[39m env\u001b[39m.\u001b[39mstep(action)\n\u001b[1;32m     <a href='vscode-notebook-cell://wsl%2Bubuntu/home/jonczyk/WSI/NEURAL_NETWORKS/zad5%20%281%29.ipynb#W6sdnNjb2RlLXJlbW90ZQ%3D%3D?line=67'>68</a>\u001b[0m     q_solver\u001b[39m.\u001b[39mupdate(state, action, reward, next_state)\n",
            "\u001b[1;32m/home/jonczyk/WSI/NEURAL_NETWORKS/zad5 (1).ipynb Cell 2\u001b[0m line \u001b[0;36m4\n\u001b[1;32m     <a href='vscode-notebook-cell://wsl%2Bubuntu/home/jonczyk/WSI/NEURAL_NETWORKS/zad5%20%281%29.ipynb#W6sdnNjb2RlLXJlbW90ZQ%3D%3D?line=37'>38</a>\u001b[0m     \u001b[39mreturn\u001b[39;00m np\u001b[39m.\u001b[39mrandom\u001b[39m.\u001b[39mchoice(\u001b[39mself\u001b[39m\u001b[39m.\u001b[39maction_space)\n\u001b[1;32m     <a href='vscode-notebook-cell://wsl%2Bubuntu/home/jonczyk/WSI/NEURAL_NETWORKS/zad5%20%281%29.ipynb#W6sdnNjb2RlLXJlbW90ZQ%3D%3D?line=38'>39</a>\u001b[0m \u001b[39melse\u001b[39;00m:\n\u001b[0;32m---> <a href='vscode-notebook-cell://wsl%2Bubuntu/home/jonczyk/WSI/NEURAL_NETWORKS/zad5%20%281%29.ipynb#W6sdnNjb2RlLXJlbW90ZQ%3D%3D?line=39'>40</a>\u001b[0m     \u001b[39mreturn\u001b[39;00m np\u001b[39m.\u001b[39margmax(\u001b[39mself\u001b[39;49m\u001b[39m.\u001b[39;49mq_table[state, :])\n",
            "\u001b[0;31mIndexError\u001b[0m: only integers, slices (`:`), ellipsis (`...`), numpy.newaxis (`None`) and integer or boolean arrays are valid indices"
          ]
        }
      ],
      "source": [
        "import numpy as np\n",
        "import gymnasium as gym\n",
        "\n",
        "class QLearningSolver:\n",
        "    \"\"\"Class containing the Q-learning algorithm that might be used for different discrete environments.\"\"\"\n",
        "\n",
        "    def __init__(\n",
        "        self,\n",
        "        observation_space: int,\n",
        "        action_space: int,\n",
        "        learning_rate: float = 0.1,\n",
        "        gamma: float = 0.9,\n",
        "        epsilon: float = 0.1,\n",
        "    ):\n",
        "        self.observation_space = observation_space\n",
        "        self.action_space = action_space\n",
        "        self.learning_rate = learning_rate\n",
        "        self.gamma = gamma\n",
        "        self.epsilon = epsilon\n",
        "\n",
        "        # Initialize Q-table with zeros\n",
        "        self.q_table = np.zeros((observation_space, action_space))\n",
        "\n",
        "    def __call__(self, state: int, action: int) -> float:\n",
        "        \"\"\"Return Q-value of given state and action.\"\"\"\n",
        "        return self.q_table[state, action]\n",
        "\n",
        "    def update(self, state: int, action: int, reward: float, next_state: int) -> None:\n",
        "        \"\"\"Update Q-value of given state and action.\"\"\"\n",
        "        # Q-learning update rule\n",
        "        max_next_q_value = np.max(self.q_table[next_state, :])\n",
        "        delta = reward + self.gamma * max_next_q_value - self.q_table[state, action]\n",
        "        self.q_table[state, action] += self.learning_rate * delta\n",
        "\n",
        "    def get_best_action(self, state):\n",
        "        # state = int(state)  # Ensure that state is an integer\n",
        "        if np.random.rand() < self.epsilon:\n",
        "            return np.random.choice(self.action_space)\n",
        "        else:\n",
        "            return np.argmax(self.q_table[state, :])\n",
        "\n",
        "    # nie wiem do końca czy tutaj nie chodzi może bardzeij o wizualną reprezentację\n",
        "    def __repr__(self):\n",
        "        \"\"\"Elegant representation of Q-learning solver.\"\"\"\n",
        "        return f\"QLearningSolver(observation_space={self.observation_space}, action_space={self.action_space}, learning_rate={self.learning_rate}, gamma={self.gamma}, epsilon={self.epsilon})\"\n",
        "\n",
        "    def __str__(self):\n",
        "        return self.__repr__()\n",
        "\n",
        "\n",
        "# Create the Taxi-v3 environment\n",
        "env = gym.make('Taxi-v3')\n",
        "num_states = env.observation_space.n   \n",
        "num_actions = env.action_space.n\n",
        "\n",
        "# Create a Q-learning solver\n",
        "q_solver = QLearningSolver(observation_space=num_states, action_space=num_actions)\n",
        "\n",
        "# Q-learning loop\n",
        "for episode in range(5000):\n",
        "    state = env.reset()\n",
        "    total_reward = 0\n",
        "\n",
        "    for step in range(200):  # Limit the number of steps per episode to avoid infinite loops\n",
        "        action = q_solver.get_best_action(state)\n",
        "        next_state, reward, done, _ = env.step(action)\n",
        "\n",
        "        q_solver.update(state, action, reward, next_state)\n",
        "\n",
        "        total_reward += reward\n",
        "        state = next_state\n",
        "\n",
        "        if done:\n",
        "            break\n",
        "\n",
        "    if episode % 100 == 0:\n",
        "        print(f\"Episode {episode}, Total Reward: {total_reward}\")\n",
        "\n",
        "# Test the learned policy\n",
        "state = env.reset()\n",
        "env.render()\n",
        "while True:\n",
        "    action = q_solver.get_best_action(state)\n",
        "    state, _, done, _ = env.step(action)\n",
        "    env.render()\n",
        "    if done:\n",
        "        break\n",
        "\n",
        "env.close()\n"
      ]
    },
    {
      "cell_type": "markdown",
      "metadata": {
        "collapsed": false
      },
      "source": [
        "# Eksperymenty"
      ]
    },
    {
      "cell_type": "markdown",
      "metadata": {
        "collapsed": false
      },
      "source": [
        "# Wnioski"
      ]
    },
    {
      "cell_type": "code",
      "execution_count": null,
      "metadata": {
        "collapsed": false
      },
      "outputs": [],
      "source": []
    }
  ],
  "metadata": {
    "kernelspec": {
      "display_name": "Python 3",
      "language": "python",
      "name": "python3"
    },
    "language_info": {
      "codemirror_mode": {
        "name": "ipython",
        "version": 3
      },
      "file_extension": ".py",
      "mimetype": "text/x-python",
      "name": "python",
      "nbconvert_exporter": "python",
      "pygments_lexer": "ipython3",
      "version": "3.10.6"
    },
    "nteract": {
      "version": "nteract-front-end@1.0.0"
    }
  },
  "nbformat": 4,
  "nbformat_minor": 0
}
